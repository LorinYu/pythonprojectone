{
 "cells": [
  {
   "cell_type": "code",
   "execution_count": 1,
   "metadata": {},
   "outputs": [
    {
     "name": "stdout",
     "output_type": "stream",
     "text": [
      "Filesystem      Size  Used Avail Use% Mounted on\n",
      "/dev/root       7.2G  3.9G  3.0G  57% /\n",
      "devtmpfs        459M     0  459M   0% /dev\n",
      "tmpfs           463M     0  463M   0% /dev/shm\n",
      "tmpfs           463M  6.4M  457M   2% /run\n",
      "tmpfs           5.0M  4.0K  5.0M   1% /run/lock\n",
      "tmpfs           463M     0  463M   0% /sys/fs/cgroup\n",
      "/dev/mmcblk0p1   41M   21M   21M  51% /boot\n",
      "tmpfs            93M     0   93M   0% /run/user/1000\n",
      "\n"
     ]
    }
   ],
   "source": [
    "import paramiko\n",
    "# 建立一个sshclient对象\n",
    "ssh = paramiko.SSHClient()\n",
    "# 允许将信任的主机自动加入到host_allow 列表，此方法必须放在connect方法的前面\n",
    "ssh.set_missing_host_key_policy(paramiko.AutoAddPolicy())\n",
    "# 调用connect方法连接服务器\n",
    "ssh.connect(hostname='192.168.1.117', port=22, username='pi', password='sdut420')\n",
    "# 执行命令\n",
    "stdin, stdout, stderr = ssh.exec_command('df -hl')\n",
    "# 结果放到stdout中，如果有错误将放到stderr中\n",
    "print(stdout.read().decode())\n",
    "# 关闭连接\n",
    "ssh.close()"
   ]
  },
  {
   "cell_type": "code",
   "execution_count": 4,
   "metadata": {
    "collapsed": true
   },
   "outputs": [],
   "source": [
    "import paramiko\n",
    "# 建立一个sshclient对象\n",
    "ssh = paramiko.SSHClient()\n",
    "# 允许将信任的主机自动加入到host_allow 列表，此方法必须放在connect方法的前面\n",
    "ssh.set_missing_host_key_policy(paramiko.AutoAddPolicy())\n",
    "# 调用connect方法连接服务器\n",
    "ssh.connect(hostname='192.168.1.117', port=22, username='pi', password='sdut420')\n",
    "# 执行命令\n",
    "stdin, stdout, stderr = ssh.exec_command('python /home/pi/Desktop/new-creation/function-part/pic/pic-auto.py')\n",
    "# 结果放到stdout中，如果有错误将放到stderr中\n",
    "#print(stdout.read().decode())\n",
    "# 关闭连接\n",
    "ssh.close()"
   ]
  }
 ],
 "metadata": {
  "kernelspec": {
   "display_name": "Python 3",
   "language": "python",
   "name": "python3"
  },
  "language_info": {
   "codemirror_mode": {
    "name": "ipython",
    "version": 3
   },
   "file_extension": ".py",
   "mimetype": "text/x-python",
   "name": "python",
   "nbconvert_exporter": "python",
   "pygments_lexer": "ipython3",
   "version": "3.6.0"
  }
 },
 "nbformat": 4,
 "nbformat_minor": 2
}
