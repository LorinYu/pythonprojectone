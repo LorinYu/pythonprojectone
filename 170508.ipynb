{
 "cells": [
  {
   "cell_type": "code",
   "execution_count": 1,
   "metadata": {
    "collapsed": true
   },
   "outputs": [],
   "source": [
    "import numpy as np"
   ]
  },
  {
   "cell_type": "code",
   "execution_count": 3,
   "metadata": {},
   "outputs": [
    {
     "name": "stdout",
     "output_type": "stream",
     "text": [
      "[[10 20 30 40 50]]\n"
     ]
    }
   ],
   "source": [
    "lt1 =  [1,2,3,4,5]\n",
    "a = 10\n",
    "mx1 = np.mat(lt1)\n",
    "print(a*mx1)"
   ]
  },
  {
   "cell_type": "code",
   "execution_count": 4,
   "metadata": {},
   "outputs": [
    {
     "name": "stdout",
     "output_type": "stream",
     "text": [
      "[[ 0.  0.  0.  0.  0.]\n",
      " [ 0.  0.  0.  0.  0.]\n",
      " [ 0.  0.  0.  0.  0.]]\n"
     ]
    }
   ],
   "source": [
    "mx2 = np.zeros([3,5])\n",
    "print(mx2)"
   ]
  },
  {
   "cell_type": "code",
   "execution_count": 5,
   "metadata": {},
   "outputs": [
    {
     "name": "stdout",
     "output_type": "stream",
     "text": [
      "[[ 1.  0.  0.  0.]\n",
      " [ 0.  1.  0.  0.]\n",
      " [ 0.  0.  1.  0.]\n",
      " [ 0.  0.  0.  1.]]\n"
     ]
    }
   ],
   "source": [
    "mx3 = np.eye(4)\n",
    "print(mx3)"
   ]
  },
  {
   "cell_type": "code",
   "execution_count": 6,
   "metadata": {},
   "outputs": [
    {
     "name": "stdout",
     "output_type": "stream",
     "text": [
      "[[ 0.7132831   0.13389538  0.55463825  0.36527622]\n",
      " [ 0.88365736  0.7118838   0.24783683  0.15754304]\n",
      " [ 0.21126945  0.06316495  0.28968652  0.77831481]\n",
      " [ 0.90243084  0.29037091  0.14103854  0.91460489]]\n"
     ]
    }
   ],
   "source": [
    "mx4 = np.random.rand(4,4)\n",
    "print(mx4)"
   ]
  },
  {
   "cell_type": "code",
   "execution_count": 7,
   "metadata": {},
   "outputs": [
    {
     "name": "stdout",
     "output_type": "stream",
     "text": [
      "[[ 1.7132831   0.13389538  0.55463825  0.36527622]\n",
      " [ 0.88365736  1.7118838   0.24783683  0.15754304]\n",
      " [ 0.21126945  0.06316495  1.28968652  0.77831481]\n",
      " [ 0.90243084  0.29037091  0.14103854  1.91460489]]\n"
     ]
    }
   ],
   "source": [
    "mx5 = mx3+mx4\n",
    "print(mx5)"
   ]
  },
  {
   "cell_type": "code",
   "execution_count": 8,
   "metadata": {},
   "outputs": [
    {
     "name": "stdout",
     "output_type": "stream",
     "text": [
      "[[ 17.13283102   1.33895376   5.54638246   3.6527622 ]\n",
      " [  8.83657362  17.11883799   2.47836835   1.5754304 ]\n",
      " [  2.11269453   0.63164945  12.8968652    7.78314809]\n",
      " [  9.02430836   2.90370907   1.41038543  19.14604893]]\n"
     ]
    }
   ],
   "source": [
    "print(10*mx5)"
   ]
  },
  {
   "cell_type": "code",
   "execution_count": 11,
   "metadata": {},
   "outputs": [
    {
     "data": {
      "text/plain": [
       "array([ 1.,  1.,  1.,  1.])"
      ]
     },
     "execution_count": 11,
     "metadata": {},
     "output_type": "execute_result"
    }
   ],
   "source": [
    "np.sum(mx3)\n",
    "sum(mx3)"
   ]
  },
  {
   "cell_type": "code",
   "execution_count": 12,
   "metadata": {},
   "outputs": [
    {
     "data": {
      "text/plain": [
       "array([[ 1.5,  0. ,  0. ,  0. ],\n",
       "       [ 0. ,  1.5,  0. ,  0. ],\n",
       "       [ 0. ,  0. ,  1.5,  0. ],\n",
       "       [ 0. ,  0. ,  0. ,  1.5]])"
      ]
     },
     "execution_count": 12,
     "metadata": {},
     "output_type": "execute_result"
    }
   ],
   "source": [
    "mx6 = 1.5*mx3\n",
    "mx6"
   ]
  },
  {
   "cell_type": "code",
   "execution_count": 14,
   "metadata": {},
   "outputs": [
    {
     "name": "stdout",
     "output_type": "stream",
     "text": [
      "4.0\n"
     ]
    }
   ],
   "source": [
    "print(np.sum(mx3))"
   ]
  },
  {
   "cell_type": "code",
   "execution_count": 15,
   "metadata": {},
   "outputs": [
    {
     "name": "stdout",
     "output_type": "stream",
     "text": [
      "[[ 1.5  0.   0.   0. ]\n",
      " [ 0.   1.5  0.   0. ]\n",
      " [ 0.   0.   1.5  0. ]\n",
      " [ 0.   0.   0.   1.5]]\n"
     ]
    }
   ],
   "source": [
    "mx7 = np.multiply(mx3,mx6)\n",
    "print(mx7)"
   ]
  },
  {
   "cell_type": "code",
   "execution_count": 16,
   "metadata": {},
   "outputs": [
    {
     "data": {
      "text/plain": [
       "numpy.ndarray"
      ]
     },
     "execution_count": 16,
     "metadata": {},
     "output_type": "execute_result"
    }
   ],
   "source": [
    "type(mx7)"
   ]
  },
  {
   "cell_type": "code",
   "execution_count": 18,
   "metadata": {},
   "outputs": [
    {
     "name": "stdout",
     "output_type": "stream",
     "text": [
      "[[ 2.25  0.    0.    0.  ]\n",
      " [ 0.    2.25  0.    0.  ]\n",
      " [ 0.    0.    2.25  0.  ]\n",
      " [ 0.    0.    0.    2.25]]\n"
     ]
    }
   ],
   "source": [
    "mx8 = np.power(mx7,2)\n",
    "print(mx8)"
   ]
  },
  {
   "cell_type": "code",
   "execution_count": 19,
   "metadata": {},
   "outputs": [
    {
     "name": "stdout",
     "output_type": "stream",
     "text": [
      "[[ 0.94795093  0.59502274  0.40005458  0.8469435 ]\n",
      " [ 0.822853    0.68156636  0.05644749  0.31123869]\n",
      " [ 0.85776907  0.613588    0.78598109  0.02164572]\n",
      " [ 0.96439142  0.42351041  0.38844739  0.11972071]]\n"
     ]
    }
   ],
   "source": [
    "mx9 = np.random.rand(4,4)\n",
    "print(mx9)"
   ]
  },
  {
   "cell_type": "code",
   "execution_count": 20,
   "metadata": {},
   "outputs": [
    {
     "name": "stdout",
     "output_type": "stream",
     "text": [
      "[[ 0.94795093  0.822853    0.85776907  0.96439142]\n",
      " [ 0.59502274  0.68156636  0.613588    0.42351041]\n",
      " [ 0.40005458  0.05644749  0.78598109  0.38844739]\n",
      " [ 0.8469435   0.31123869  0.02164572  0.11972071]]\n"
     ]
    }
   ],
   "source": [
    "print(mx9.T)"
   ]
  },
  {
   "cell_type": "code",
   "execution_count": 22,
   "metadata": {},
   "outputs": [
    {
     "name": "stdout",
     "output_type": "stream",
     "text": [
      "[[ 0.94795093  0.822853    0.85776907  0.96439142]\n",
      " [ 0.59502274  0.68156636  0.613588    0.42351041]\n",
      " [ 0.40005458  0.05644749  0.78598109  0.38844739]\n",
      " [ 0.8469435   0.31123869  0.02164572  0.11972071]]\n",
      "[[ 0.94795093  0.59502274  0.40005458  0.8469435 ]\n",
      " [ 0.822853    0.68156636  0.05644749  0.31123869]\n",
      " [ 0.85776907  0.613588    0.78598109  0.02164572]\n",
      " [ 0.96439142  0.42351041  0.38844739  0.11972071]]\n"
     ]
    }
   ],
   "source": [
    "print(mx9.transpose())\n",
    "print(mx9)"
   ]
  }
 ],
 "metadata": {
  "kernelspec": {
   "display_name": "Python 3",
   "language": "python",
   "name": "python3"
  },
  "language_info": {
   "codemirror_mode": {
    "name": "ipython",
    "version": 3
   },
   "file_extension": ".py",
   "mimetype": "text/x-python",
   "name": "python",
   "nbconvert_exporter": "python",
   "pygments_lexer": "ipython3",
   "version": "3.6.0"
  }
 },
 "nbformat": 4,
 "nbformat_minor": 2
}
