{
 "cells": [
  {
   "cell_type": "code",
   "execution_count": 2,
   "metadata": {
    "collapsed": true
   },
   "outputs": [],
   "source": [
    "import os"
   ]
  },
  {
   "cell_type": "code",
   "execution_count": 5,
   "metadata": {},
   "outputs": [
    {
     "name": "stdout",
     "output_type": "stream",
     "text": [
      "\n",
      "\n",
      "        \n",
      "                \n",
      "                        \n",
      "                        通风柜设备   \n",
      "                        \n",
      "                        \n",
      "                                \n",
      "                                                \n",
      "                                                        style=\"border: 3px solid #38B03F;\"\n",
      "                                                                style=\"border: 3px solid #EA644A;\"\n",
      "                                                        \t\n",
      "                                                        >\n",
      "                                                \t\n",
      "                                                        {$list.name}\n",
      "                                                        \n",
      "                                                        \n",
      "                                                \n",
      "                                \n",
      "                        \n",
      "                \n",
      "        \n",
      "\n",
      "\n",
      "        \n",
      "        \t$(function(){\n",
      "        \t       $(\"#li1\").addClass(\"active\");        \n",
      "        \t});\n",
      "        \n",
      "\n"
     ]
    }
   ],
   "source": [
    "from lxml import etree,html\n",
    "with open(\"test1.html\",encoding = 'utf-8') as html1:\n",
    "    htmldata = html1.read()\n",
    "    page = html.document_fromstring(htmldata) # 解析文件\n",
    "    test = page.text_content()\n",
    "    print(test)\n",
    "\n"
   ]
  },
  {
   "cell_type": "code",
   "execution_count": 9,
   "metadata": {},
   "outputs": [
    {
     "data": {
      "text/plain": [
       "'C:\\\\Users\\\\lorin\\\\Documents\\\\Python File'"
      ]
     },
     "execution_count": 9,
     "metadata": {},
     "output_type": "execute_result"
    }
   ],
   "source": [
    "os.getcwd()"
   ]
  },
  {
   "cell_type": "code",
   "execution_count": 4,
   "metadata": {},
   "outputs": [
    {
     "data": {
      "text/plain": [
       "'nt'"
      ]
     },
     "execution_count": 4,
     "metadata": {},
     "output_type": "execute_result"
    }
   ],
   "source": [
    "os.name"
   ]
  },
  {
   "cell_type": "code",
   "execution_count": 6,
   "metadata": {
    "collapsed": true
   },
   "outputs": [],
   "source": [
    "os.remove('txt4.txt')"
   ]
  },
  {
   "cell_type": "code",
   "execution_count": 7,
   "metadata": {
    "collapsed": true
   },
   "outputs": [],
   "source": [
    "os.mkdir('directory1')"
   ]
  },
  {
   "cell_type": "code",
   "execution_count": 10,
   "metadata": {
    "collapsed": true
   },
   "outputs": [],
   "source": [
    "os.chdir('directory1')"
   ]
  },
  {
   "cell_type": "code",
   "execution_count": 11,
   "metadata": {},
   "outputs": [
    {
     "data": {
      "text/plain": [
       "'C:\\\\Users\\\\lorin\\\\Documents\\\\Python File\\\\directory1'"
      ]
     },
     "execution_count": 11,
     "metadata": {},
     "output_type": "execute_result"
    }
   ],
   "source": [
    "os.getcwd()"
   ]
  },
  {
   "cell_type": "code",
   "execution_count": 12,
   "metadata": {
    "collapsed": true
   },
   "outputs": [],
   "source": [
    "os.chdir('..')"
   ]
  },
  {
   "cell_type": "code",
   "execution_count": 13,
   "metadata": {},
   "outputs": [
    {
     "data": {
      "text/plain": [
       "'C:\\\\Users\\\\lorin\\\\Documents\\\\Python File'"
      ]
     },
     "execution_count": 13,
     "metadata": {},
     "output_type": "execute_result"
    }
   ],
   "source": [
    "os.getcwd()"
   ]
  },
  {
   "cell_type": "code",
   "execution_count": 14,
   "metadata": {},
   "outputs": [
    {
     "data": {
      "text/plain": [
       "['.ipynb_checkpoints',\n",
       " '0419.ipynb',\n",
       " '0420.ipynb',\n",
       " '0424.ipynb',\n",
       " '0425.ipynb',\n",
       " '0426.ipynb',\n",
       " '0427.ipynb',\n",
       " '0428.ipynb',\n",
       " '0429.ipynb',\n",
       " '0430.ipynb',\n",
       " '0501.ipynb',\n",
       " '0502.ipynb',\n",
       " '0505.ipynb',\n",
       " '0510.ipynb',\n",
       " '0516.ipynb',\n",
       " '0516.py',\n",
       " '0517.ipynb',\n",
       " '0518.ipynb',\n",
       " 'csv_test.csv',\n",
       " 'csv_test1.csv',\n",
       " 'data.csv',\n",
       " 'directory1',\n",
       " 'output.csv',\n",
       " 'pic1.jpg',\n",
       " 'test.pdf',\n",
       " 'test1.html',\n",
       " 'txt1.txt',\n",
       " 'txt2.txt',\n",
       " 'txt3.txt']"
      ]
     },
     "execution_count": 14,
     "metadata": {},
     "output_type": "execute_result"
    }
   ],
   "source": [
    "os.listdir(os.getcwd())"
   ]
  },
  {
   "cell_type": "code",
   "execution_count": 3,
   "metadata": {},
   "outputs": [
    {
     "data": {
      "text/plain": [
       "'utf-8'"
      ]
     },
     "execution_count": 3,
     "metadata": {},
     "output_type": "execute_result"
    }
   ],
   "source": [
    "import sys\n",
    "sys.getdefaultencoding()"
   ]
  },
  {
   "cell_type": "code",
   "execution_count": 14,
   "metadata": {},
   "outputs": [
    {
     "name": "stdout",
     "output_type": "stream",
     "text": [
      "我/在/马路边/捡/到/一分钱\n"
     ]
    }
   ],
   "source": [
    "import jieba\n",
    "seg_list = jieba.cut(\"我在马路边捡到一分钱\",cut_all = False)\n",
    "print('/'.join(seg_list))"
   ]
  },
  {
   "cell_type": "code",
   "execution_count": 16,
   "metadata": {},
   "outputs": [
    {
     "name": "stdout",
     "output_type": "stream",
     "text": [
      "我/ 来到/ 北京/ 清华/ 清华大学/ 华大/ 大学\n"
     ]
    }
   ],
   "source": [
    "#  全模式\n",
    "seg_list = jieba.cut(\"我来到北京清华大学\",cut_all=True)\n",
    "print(\"/\".join(seg_list)) #全模式"
   ]
  },
  {
   "cell_type": "code",
   "execution_count": 17,
   "metadata": {},
   "outputs": [
    {
     "name": "stdout",
     "output_type": "stream",
     "text": [
      "我/来到/北京/清华大学\n"
     ]
    }
   ],
   "source": [
    "# 精确模式\n",
    "seg_list = jieba.cut(\"我来到北京清华大学\")\n",
    "print(\"/\".join(seg_list))"
   ]
  },
  {
   "cell_type": "code",
   "execution_count": 18,
   "metadata": {},
   "outputs": [
    {
     "name": "stdout",
     "output_type": "stream",
     "text": [
      "小明/硕士/毕业/于/中国/科学/学院/科学院/中国科学院/计算/计算所/，/后/在/日本/京都/大学/日本京都大学/深造\n"
     ]
    }
   ],
   "source": [
    "# 搜索引擎模式\n",
    "seg_list = jieba.cut_for_search(\"小明硕士毕业于中国科学院计算所，后在日本京都大学深造\")\n",
    "print (\"/\".join(seg_list))"
   ]
  },
  {
   "cell_type": "code",
   "execution_count": 20,
   "metadata": {},
   "outputs": [
    {
     "name": "stdout",
     "output_type": "stream",
     "text": [
      "小明/硕士/毕业/于/中国科学院/计算所/，/后/在/日本京都大学/深造\n"
     ]
    }
   ],
   "source": [
    "seg_list = jieba.cut(\"小明硕士毕业于中国科学院计算所，后在日本京都大学深造\")\n",
    "print (\"/\".join(seg_list))"
   ]
  },
  {
   "cell_type": "code",
   "execution_count": 21,
   "metadata": {},
   "outputs": [
    {
     "name": "stdout",
     "output_type": "stream",
     "text": [
      "小明/硕士/毕业于/中国科学院/计算所/，/后/在/日本京都大学/深造\n"
     ]
    }
   ],
   "source": [
    "jieba.add_word('毕业于')\n",
    "seg_list = jieba.cut(\"小明硕士毕业于中国科学院计算所，后在日本京都大学深造\")\n",
    "print (\"/\".join(seg_list))"
   ]
  },
  {
   "cell_type": "code",
   "execution_count": 27,
   "metadata": {},
   "outputs": [
    {
     "name": "stdout",
     "output_type": "stream",
     "text": [
      "张无忌 nr\n",
      "在 p\n",
      "光明顶 n\n",
      "与 p\n",
      "六大 j\n",
      "门派 n\n",
      "对战 x\n",
      "， x\n",
      "挽救 v\n",
      "了 ul\n",
      "一场 m\n",
      "腥风血雨 i\n",
      "。 x\n"
     ]
    }
   ],
   "source": [
    "import jieba.posseg as pseg\n",
    "jieba.add_word('对战')\n",
    "words = pseg.cut(\"张无忌在光明顶与六大门派对战，挽救了一场腥风血雨。\")\n",
    "for w in words:\n",
    "    print (w.word,w.flag)"
   ]
  },
  {
   "cell_type": "code",
   "execution_count": 28,
   "metadata": {},
   "outputs": [
    {
     "name": "stdout",
     "output_type": "stream",
     "text": [
      "word 不\t\t start: 0\t\t end: 1\n",
      "word 知道\t\t start: 1\t\t end: 3\n",
      "word 为什么\t\t start: 3\t\t end: 6\n",
      "word ，\t\t start: 6\t\t end: 7\n",
      "word 福尔摩斯\t\t start: 7\t\t end: 11\n",
      "word 先生\t\t start: 11\t\t end: 13\n",
      "word 突然\t\t start: 13\t\t end: 15\n",
      "word 停下\t\t start: 15\t\t end: 17\n",
      "word 了\t\t start: 17\t\t end: 18\n",
      "word 脚步\t\t start: 18\t\t end: 20\n",
      "word ，\t\t start: 20\t\t end: 21\n",
      "word 转身\t\t start: 21\t\t end: 23\n",
      "word 对\t\t start: 23\t\t end: 24\n",
      "word 铁扇公主\t\t start: 24\t\t end: 28\n",
      "word 说\t\t start: 28\t\t end: 29\n"
     ]
    }
   ],
   "source": [
    "result = jieba.tokenize(u'不知道为什么，福尔摩斯先生突然停下了脚步，转身对铁扇公主说')\n",
    "for tk in result:\n",
    "    print('word %s\\t\\t start: %d\\t\\t end: %d' % (tk[0],tk[1],tk[2]))"
   ]
  }
 ],
 "metadata": {
  "kernelspec": {
   "display_name": "Python 3",
   "language": "python",
   "name": "python3"
  },
  "language_info": {
   "codemirror_mode": {
    "name": "ipython",
    "version": 3
   },
   "file_extension": ".py",
   "mimetype": "text/x-python",
   "name": "python",
   "nbconvert_exporter": "python",
   "pygments_lexer": "ipython3",
   "version": "3.6.0"
  }
 },
 "nbformat": 4,
 "nbformat_minor": 2
}
