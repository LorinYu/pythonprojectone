{
 "cells": [
  {
   "cell_type": "code",
   "execution_count": 1,
   "metadata": {
    "collapsed": true
   },
   "outputs": [],
   "source": [
    "import os"
   ]
  },
  {
   "cell_type": "code",
   "execution_count": 4,
   "metadata": {},
   "outputs": [
    {
     "data": {
      "text/plain": [
       "'D:\\\\CodeRepos\\\\ipynb'"
      ]
     },
     "execution_count": 4,
     "metadata": {},
     "output_type": "execute_result"
    }
   ],
   "source": [
    "os.getcwd()"
   ]
  },
  {
   "cell_type": "code",
   "execution_count": 6,
   "metadata": {},
   "outputs": [
    {
     "name": "stdout",
     "output_type": "stream",
     "text": [
      "Original image size: 946x1200\n",
      "Resize image to: 473x600\n"
     ]
    }
   ],
   "source": [
    "from PIL import Image\n",
    "im = Image.open('test.jpg')\n",
    "w,h = im.size\n",
    "print('Original image size: %sx%s' % (w, h))\n",
    "im.thumbnail((w//2, h//2))\n",
    "print('Resize image to: %sx%s' % (w//2, h//2))\n",
    "# 把缩放后的图像用jpeg格式保存:\n",
    "im.save('thumbnail.jpg', 'jpeg')"
   ]
  },
  {
   "cell_type": "code",
   "execution_count": 7,
   "metadata": {
    "collapsed": true
   },
   "outputs": [],
   "source": [
    "from PIL import Image,ImageFilter\n",
    "im = Image.open('test.jpg')\n",
    "im2 = im.filter(ImageFilter.BLUR)\n",
    "im2.save('blur.jpg','jpeg')"
   ]
  },
  {
   "cell_type": "code",
   "execution_count": 9,
   "metadata": {
    "collapsed": true
   },
   "outputs": [],
   "source": [
    "from tkinter import *\n",
    "class Application(Frame):\n",
    "    def __init__(self, master=None):\n",
    "        Frame.__init__(self, master)\n",
    "        self.pack()\n",
    "        self.createWidgets()\n",
    "\n",
    "    def createWidgets(self):\n",
    "        self.helloLabel = Label(self, text='Hello, world!')\n",
    "        self.helloLabel.pack()\n",
    "        self.quitButton = Button(self, text='Quit', command=self.quit)\n",
    "        self.quitButton.pack()\n",
    "app = Application()\n",
    "# 设置窗口标题:\n",
    "app.master.title('Hello World')\n",
    "# 主消息循环:\n",
    "app.mainloop()"
   ]
  },
  {
   "cell_type": "code",
   "execution_count": null,
   "metadata": {
    "collapsed": true
   },
   "outputs": [],
   "source": [
    "# 网络通信是两台计算机上的两个进程之间的通信."
   ]
  },
  {
   "cell_type": "code",
   "execution_count": 4,
   "metadata": {},
   "outputs": [
    {
     "name": "stdout",
     "output_type": "stream",
     "text": [
      "HTTP/1.1 200 OK\r\n",
      "Server: nginx\r\n",
      "Date: Thu, 27 Jul 2017 12:56:09 GMT\r\n",
      "Content-Type: text/html\r\n",
      "Content-Length: 596356\r\n",
      "Connection: close\r\n",
      "Last-Modified: Thu, 27 Jul 2017 12:52:40 GMT\r\n",
      "Vary: Accept-Encoding\r\n",
      "Expires: Thu, 27 Jul 2017 12:56:52 GMT\r\n",
      "Cache-Control: max-age=60\r\n",
      "X-Powered-By: shci_v1.03\r\n",
      "Age: 18\r\n",
      "Via: http/1.1 cnc.beixian.ha2ts4.205 (ApacheTrafficServer/4.2.1.1 [cMsSfW]), http/1.1 cnc.qingdao.ha2ts4.103 (ApacheTrafficServer/4.2.1.1 [cMsSfW]), http/1.1 cnc.jinan.ha2ts4.62 (ApacheTrafficServer/4.2.1.1 [cHs f ])\r\n",
      "X-Cache: MISS.205\r\n",
      "X-Via-CDN: f=edge,s=cnc.jinan.ha2ts4.60.nb.sinaedge.com,c=202.110.209.168;f=Edge,s=cnc.jinan.ha2ts4.62,c=119.188.72.60;f=edge,s=cnc.qingdao.ha2ts4.97.nb.sinaedge.com,c=119.188.72.62;f=Edge,s=cnc.qingdao.ha2ts4.103,c=119.188.72.62;f=edge,s=cnc.beixian.ha2ts4.207.nb.sinaedge.com,c=27.221.16.103;f=Edge,s=cnc.beixian.ha2ts4.205,c=119.188.72.62\r\n",
      "X-Cache: MISS.103\r\n",
      "X-Cache: HIT.62\n"
     ]
    }
   ],
   "source": [
    "import socket\n",
    "s = socket.socket(socket.AF_INET,socket.SOCK_STREAM)\n",
    "s.connect(('www.sina.com.cn',80))\n",
    "s.send(b'GET / HTTP/1.1\\r\\nHost: www.sina.com.cn\\r\\nConnection: close\\r\\n\\r\\n')\n",
    "buffer = []\n",
    "while True:\n",
    "    # 每次最多接收1k字节:\n",
    "    d = s.recv(1024)\n",
    "    if d:\n",
    "        buffer.append(d)\n",
    "    else:\n",
    "        break\n",
    "data = b''.join(buffer)\n",
    "# 关闭连接:\n",
    "s.close()\n",
    "header, html = data.split(b'\\r\\n\\r\\n', 1)\n",
    "print(header.decode('utf-8'))\n",
    "# 把接收的数据写入文件:\n",
    "with open('sina.html', 'wb') as f:\n",
    "    f.write(html)"
   ]
  }
 ],
 "metadata": {
  "kernelspec": {
   "display_name": "Python 3",
   "language": "python",
   "name": "python3"
  },
  "language_info": {
   "codemirror_mode": {
    "name": "ipython",
    "version": 3
   },
   "file_extension": ".py",
   "mimetype": "text/x-python",
   "name": "python",
   "nbconvert_exporter": "python",
   "pygments_lexer": "ipython3",
   "version": "3.6.0"
  }
 },
 "nbformat": 4,
 "nbformat_minor": 2
}
