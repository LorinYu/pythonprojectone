{
 "cells": [
  {
   "cell_type": "code",
   "execution_count": 2,
   "metadata": {},
   "outputs": [
    {
     "name": "stdout",
     "output_type": "stream",
     "text": [
      "17\n"
     ]
    }
   ],
   "source": [
    "import random\n",
    "it1 =  random.randint(10,19)\n",
    "print(it1)"
   ]
  },
  {
   "cell_type": "code",
   "execution_count": 3,
   "metadata": {},
   "outputs": [
    {
     "name": "stdout",
     "output_type": "stream",
     "text": [
      "[16, 17, 17, 17, 12, 12, 11, 19, 13, 16]\n"
     ]
    }
   ],
   "source": [
    "n=0\n",
    "lt1 = []\n",
    "while (n<=9):\n",
    "    it2 = random.randint(10,19)\n",
    "    lt1.append(it2)\n",
    "    n = n+1\n",
    "print(lt1)"
   ]
  },
  {
   "cell_type": "code",
   "execution_count": 4,
   "metadata": {},
   "outputs": [
    {
     "name": "stdout",
     "output_type": "stream",
     "text": [
      "[12, 10, 11, 12, 14, 14, 12, 13, 11, 12]\n"
     ]
    }
   ],
   "source": [
    "n=0\n",
    "lt2 = []\n",
    "while (n<=9):\n",
    "    it2 = random.randint(10,14)\n",
    "    lt2.append(it2)\n",
    "    n = n+1\n",
    "print(lt2)"
   ]
  },
  {
   "cell_type": "code",
   "execution_count": 24,
   "metadata": {},
   "outputs": [
    {
     "name": "stdout",
     "output_type": "stream",
     "text": [
      "经过一万次测试，李宇坤出现次数为4974,于子怡出现次数为5026,你的选择是于子怡\n"
     ]
    }
   ],
   "source": [
    "n = 0\n",
    "l = 0\n",
    "y = 0\n",
    "while (n<=9999):\n",
    "    it2 = random.randint(10,13)\n",
    "    if (it2 <= 11):\n",
    "        l = l + 1\n",
    "    else:\n",
    "        y = y + 1 \n",
    "    n = n+1\n",
    "if (l > y):\n",
    "    s = \"李宇坤\"\n",
    "else:\n",
    "    s = \"于子怡\" \n",
    "print(\"经过一万次测试，李宇坤出现次数为%d,于子怡出现次数为%d,你的选择是%s\" % (l,y,s))"
   ]
  }
 ],
 "metadata": {
  "kernelspec": {
   "display_name": "Python 3",
   "language": "python",
   "name": "python3"
  },
  "language_info": {
   "codemirror_mode": {
    "name": "ipython",
    "version": 3
   },
   "file_extension": ".py",
   "mimetype": "text/x-python",
   "name": "python",
   "nbconvert_exporter": "python",
   "pygments_lexer": "ipython3",
   "version": "3.6.0"
  }
 },
 "nbformat": 4,
 "nbformat_minor": 2
}
