{
 "cells": [
  {
   "cell_type": "code",
   "execution_count": 3,
   "metadata": {
    "collapsed": true
   },
   "outputs": [],
   "source": [
    "import mysql.connector\n",
    "conn = mysql.connector.connect(host = 'localhost',  # 远程主机的ip地址， \n",
    "                                            user = 'root',   # MySQL用户名\n",
    "                                            db = 'project1',   # database名\n",
    "                                            passwd = 'root',   # 数据库密码\n",
    "                                            port = 3306,  #数据库监听端口，默认3306\n",
    "                                            charset = \"utf8\")  #指定utf8编码的连接\n",
    "cursor = conn.cursor()  # 创建一个光标，然后通过光标执行sql语句\n",
    "cursor.execute(\"insert into data (gate_height) values (666)\")\n",
    "#values = cursor.fetchall()  # 取出cursor得到的数据\n",
    "cursor.close(); \n",
    "conn.close()  #最后记得关闭光标和连接，防止数据泄露"
   ]
  },
  {
   "cell_type": "code",
   "execution_count": 2,
   "metadata": {
    "collapsed": true
   },
   "outputs": [],
   "source": [
    "import mysql.connector\n",
    "conn = mysql.connector.connect(host = 'localhost',  # 远程主机的ip地址， \n",
    "                                            user = 'root',   # MySQL用户名\n",
    "                                            db = 'project1',   # database名\n",
    "                                            passwd = 'root',   # 数据库密码\n",
    "                                            port = 3306,  #数据库监听端口，默认3306\n",
    "                                            charset = \"utf8\")  #指定utf8编码的连接\n",
    "cursor = conn.cursor()  # 创建一个光标，然后通过光标执行sql语句\n",
    "cursor.execute(\"insert into data (gate_height) values (668)\")\n",
    "#values = cursor.fetchall()  # 取出cursor得到的数据\n",
    "cursor.close(); \n",
    "conn.close()  #最后记得关闭光标和连接，防止数据泄露"
   ]
  },
  {
   "cell_type": "code",
   "execution_count": 4,
   "metadata": {},
   "outputs": [],
   "source": [
    "import mysql.connector\n",
    "conn = mysql.connector.connect(host = 'localhost',\n",
    "\t\t\t\t\t\t\t    user = 'root',  \n",
    "                                db = 'project1',  \n",
    "                                passwd = 'root',  \n",
    "                                port = 3306,  \n",
    "                                charset = \"utf8\")  \n",
    "cursor = conn.cursor()  \n",
    "cursor.execute(\"update data set gate_height = gate_height + 1 where id = 14\")\n",
    "cursor.close() \n",
    "conn.close()  "
   ]
  }
 ],
 "metadata": {
  "kernelspec": {
   "display_name": "Python 3",
   "language": "python",
   "name": "python3"
  },
  "language_info": {
   "codemirror_mode": {
    "name": "ipython",
    "version": 3
   },
   "file_extension": ".py",
   "mimetype": "text/x-python",
   "name": "python",
   "nbconvert_exporter": "python",
   "pygments_lexer": "ipython3",
   "version": "3.6.0"
  }
 },
 "nbformat": 4,
 "nbformat_minor": 2
}
