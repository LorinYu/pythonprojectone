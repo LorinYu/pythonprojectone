{
 "cells": [
  {
   "cell_type": "code",
   "execution_count": 7,
   "metadata": {},
   "outputs": [],
   "source": [
    "test = \"lujuan1990 <lujuan1990@126.com>; zzzcn <zzzcn@139.com>; sunmolin93 <sunmolin93@163.com>; pang_yuxuan <pang_yuxuan@126.com>; shilanadelle <shilanadelle@126.com>; chensh233 <chensh233@126.com>; searchor <searchor@163.com>; zzskye <zzskye@163.com>; 1219274267 <1219274267@qq.com>; shibx427 <shibx427@126.com>; gaoyi0623 <gaoyi0623@126.com>; 15536292629 <15536292629@163.com>; littlelany <littlelany@qq.com>; 1501213498 <1501213498@sz.pku.edu.cn>; shihui_miao <shihui_miao@126.com>; vivilian1994 <vivilian1994@163.com>; 18811403245 <18811403245@163.com>; zerosfate <zerosfate@126.com>; lam_xmu <lam_xmu@126.com>; iamcherryli <iamcherryli@qq.com>; zhengyd <zhengyd@pku.edu.cn>; huangxuefei1994 <huangxuefei1994@126.com>; linda_0008 <linda_0008@163.com>; catoldcui <catoldcui@gmail.com>; 于旭东 <1181401581@qq.com>; 287913624 <287913624@qq.com>; 1006224502 <1006224502@qq.com>; 792887538 <792887538@qq.com>; xiaiguilun223 <xiaiguilun223@163.com>; guojun0423 <guojun0423@163.com>; Wang_Cong9 <Wang_Cong9@163.com>; xujianbit <xujianbit@163.com>; cocolvyt <cocolvyt@163.com>; 18801062365 <18801062365@163.com>; qixiaoqing_2018 <qixiaoqing_2018@163.com>; lufu_zheng <lufu_zheng@163.com>; rachel6181024 <rachel6181024@163.com>; wuwr0326 <wuwr0326@163.com>; wlzz123 <wlzz123@foxmail.com>; 1066567603 <1066567603@qq.com>; ctt19941123 <ctt19941123@163.com>; korrazhangmengjuan <korrazhangmengjuan@163.com>; 1163010720 <1163010720@qq.com>; 1160305207 <1160305207@qq.com>; xuxiaolong1267 <xuxiaolong1267@163.com>; 1213708468 <1213708468@qq.\""
   ]
  },
  {
   "cell_type": "code",
   "execution_count": 4,
   "metadata": {},
   "outputs": [],
   "source": [
    "a = 0"
   ]
  },
  {
   "cell_type": "code",
   "execution_count": 8,
   "metadata": {},
   "outputs": [
    {
     "name": "stdout",
     "output_type": "stream",
     "text": [
      "46\n"
     ]
    }
   ],
   "source": [
    "for i in test:\n",
    "    if (i == '@'):\n",
    "        a = a + 1\n",
    "print(a)    "
   ]
  },
  {
   "cell_type": "code",
   "execution_count": null,
   "metadata": {
    "collapsed": true
   },
   "outputs": [],
   "source": []
  }
 ],
 "metadata": {
  "kernelspec": {
   "display_name": "Python 3",
   "language": "python",
   "name": "python3"
  },
  "language_info": {
   "codemirror_mode": {
    "name": "ipython",
    "version": 3
   },
   "file_extension": ".py",
   "mimetype": "text/x-python",
   "name": "python",
   "nbconvert_exporter": "python",
   "pygments_lexer": "ipython3",
   "version": "3.6.0"
  }
 },
 "nbformat": 4,
 "nbformat_minor": 2
}
