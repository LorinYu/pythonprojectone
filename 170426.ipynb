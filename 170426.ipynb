{
 "cells": [
  {
   "cell_type": "code",
   "execution_count": 10,
   "metadata": {
    "collapsed": false
   },
   "outputs": [
    {
     "ename": "SyntaxError",
     "evalue": "invalid character in identifier (<ipython-input-10-de3a7a085fb9>, line 2)",
     "output_type": "error",
     "traceback": [
      "\u001b[0;36m  File \u001b[0;32m\"<ipython-input-10-de3a7a085fb9>\"\u001b[0;36m, line \u001b[0;32m2\u001b[0m\n\u001b[0;31m    csvfile = open('1.csv', 'w'，newline='')\u001b[0m\n\u001b[0m                                      ^\u001b[0m\n\u001b[0;31mSyntaxError\u001b[0m\u001b[0;31m:\u001b[0m invalid character in identifier\n"
     ]
    }
   ],
   "source": [
    "import csv\n",
    "csvfile = open('1.csv', 'w'，newline='')\n",
    "writer = csv.writer(csvfile)\n",
    "writer.writerow(['id', 'url', 'keywords'])\n",
    "data = [\n",
    "  ('1', 'http://www.xiaoheiseo.com/', '小黑'),\n",
    "  ('2', 'http://www.baidu.com/', '百度'),\n",
    "  ('3', 'http://www.jd.com/', '京东')\n",
    "]\n",
    "writer.writerows(data)\n",
    "csvfile.close()"
   ]
  },
  {
   "cell_type": "code",
   "execution_count": null,
   "metadata": {
    "collapsed": true
   },
   "outputs": [],
   "source": [
    "import csv\n",
    "with open('csv_test1.csv', 'w') as csvfile:\n",
    "    writer = csv.writer(csvfile)\n",
    "    writer.writerow(['姓名', '年龄', '电话'])\n",
    "    data = [\n",
    "        ('第一人', '25', '1234567'),\n",
    "        ('第二人', '18', '789456')\n",
    "    ]\n",
    "    writer.writerows(data)\n"
   ]
  }
 ],
 "metadata": {
  "kernelspec": {
   "display_name": "Python 3",
   "language": "python",
   "name": "python3"
  },
  "language_info": {
   "codemirror_mode": {
    "name": "ipython",
    "version": 3
   },
   "file_extension": ".py",
   "mimetype": "text/x-python",
   "name": "python",
   "nbconvert_exporter": "python",
   "pygments_lexer": "ipython3",
   "version": "3.6.0"
  }
 },
 "nbformat": 4,
 "nbformat_minor": 2
}
