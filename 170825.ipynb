{
 "cells": [
  {
   "cell_type": "code",
   "execution_count": 3,
   "metadata": {},
   "outputs": [
    {
     "name": "stdout",
     "output_type": "stream",
     "text": [
      "[1, 2, 2, 5, 6, 8, 45]\n"
     ]
    }
   ],
   "source": [
    "#冒泡排序\n",
    "#!/usr/bin/env python\n",
    "# coding:utf-8\n",
    "\n",
    "def bubbleSort(nums):\n",
    "    for i in range(len(nums)-1):    # 这个循环负责设置冒泡排序进行的次数\n",
    "        for j in range(len(nums)-i-1):  # ｊ为列表下标\n",
    "            if nums[j] > nums[j+1]:\n",
    "                nums[j], nums[j+1] = nums[j+1], nums[j]\n",
    "    return nums\n",
    "\n",
    "nums = [5,2,45,6,8,2,1]\n",
    "\n",
    "print(bubbleSort(nums))"
   ]
  },
  {
   "cell_type": "code",
   "execution_count": null,
   "metadata": {
    "collapsed": true
   },
   "outputs": [],
   "source": []
  }
 ],
 "metadata": {
  "kernelspec": {
   "display_name": "Python 3",
   "language": "python",
   "name": "python3"
  },
  "language_info": {
   "codemirror_mode": {
    "name": "ipython",
    "version": 3
   },
   "file_extension": ".py",
   "mimetype": "text/x-python",
   "name": "python",
   "nbconvert_exporter": "python",
   "pygments_lexer": "ipython3",
   "version": "3.6.0"
  }
 },
 "nbformat": 4,
 "nbformat_minor": 2
}
